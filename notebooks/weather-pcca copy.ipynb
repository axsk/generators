{
 "cells": [
  {
   "cell_type": "code",
   "execution_count": 1,
   "metadata": {},
   "outputs": [
    {
     "name": "stderr",
     "output_type": "stream",
     "text": [
      "\u001b[32m\u001b[1m Activating\u001b[22m\u001b[39m environment at `~/Documents/code/generators/Project.toml`\n"
     ]
    }
   ],
   "source": [
    "]activate ../."
   ]
  },
  {
   "cell_type": "code",
   "execution_count": 3,
   "metadata": {},
   "outputs": [
    {
     "name": "stdout",
     "output_type": "stream",
     "text": [
      "\u001b[36m\u001b[1mProject \u001b[22m\u001b[39mEAMC v0.1.0\n",
      "\u001b[32m\u001b[1mStatus\u001b[22m\u001b[39m `~/Documents/code/generators/Project.toml`\n",
      " \u001b[90m [7d9fca2a] \u001b[39m\u001b[37mArpack v0.4.0\u001b[39m\n",
      " \u001b[90m [35d6a980] \u001b[39m\u001b[37mColorSchemes v3.6.0\u001b[39m\n",
      " \u001b[90m [8f4d0f93] \u001b[39m\u001b[37mConda v1.4.1\u001b[39m\n",
      " \u001b[90m [31a5f54b] \u001b[39m\u001b[37mDebugger v0.6.4\u001b[39m\n",
      " \u001b[90m [0c46a032] \u001b[39m\u001b[37mDifferentialEquations v6.11.0\u001b[39m\n",
      " \u001b[90m [31c24e10] \u001b[39m\u001b[37mDistributions v0.22.5\u001b[39m\n",
      " \u001b[90m [f6369f11] \u001b[39m\u001b[37mForwardDiff v0.10.9\u001b[39m\n",
      " \u001b[90m [4076af6c] \u001b[39m\u001b[37mJuMP v0.21.1\u001b[39m\n",
      " \u001b[90m [0b1a1467] \u001b[39m\u001b[37mKrylovKit v0.4.1\u001b[39m\n",
      " \u001b[90m [50d2b5c4] \u001b[39m\u001b[37mLazy v0.15.0\u001b[39m\n",
      " \u001b[90m [ee78f7c6] \u001b[39m\u001b[37mMakie v0.9.5\u001b[39m\n",
      " \u001b[90m [4d4711f2] \u001b[39m\u001b[37mMatrixMarket v0.3.1\u001b[39m\n",
      " \u001b[90m [c03570c3] \u001b[39m\u001b[37mMemoize v0.4.3\u001b[39m\n",
      " \u001b[90m [429524aa] \u001b[39m\u001b[37mOptim v0.20.2\u001b[39m\n",
      " \u001b[90m [d96e819e] \u001b[39m\u001b[37mParameters v0.12.0\u001b[39m\n",
      " \u001b[90m [91a5bcdd] \u001b[39m\u001b[37mPlots v0.29.4\u001b[39m\n",
      " \u001b[90m [295af30f] \u001b[39m\u001b[37mRevise v2.5.3\u001b[39m\n",
      " \u001b[90m [2913bbd2] \u001b[39m\u001b[37mStatsBase v0.32.1\u001b[39m\n",
      " \u001b[90m [37e2e46d] \u001b[39m\u001b[37mLinearAlgebra\u001b[39m\n",
      " \u001b[90m [2f01184e] \u001b[39m\u001b[37mSparseArrays\u001b[39m\n",
      " \u001b[90m [10745b16] \u001b[39m\u001b[37mStatistics\u001b[39m\n"
     ]
    }
   ],
   "source": [
    "]st"
   ]
  },
  {
   "cell_type": "code",
   "execution_count": 16,
   "metadata": {},
   "outputs": [
    {
     "ename": "LoadError",
     "evalue": "ArgumentError: Package Interact not found in current path:\n- Run `import Pkg; Pkg.add(\"Interact\")` to install the Interact package.\n",
     "output_type": "error",
     "traceback": [
      "ArgumentError: Package Interact not found in current path:\n- Run `import Pkg; Pkg.add(\"Interact\")` to install the Interact package.\n",
      "",
      "Stacktrace:",
      " [1] require(::Module, ::Symbol) at ./loading.jl:893",
      " [2] include_string(::Function, ::Module, ::String, ::String) at ./loading.jl:1091"
     ]
    }
   ],
   "source": [
    "using Revise\n",
    "using LinearAlgebra\n",
    "using MatrixMarket\n",
    "using EAMC\n",
    "using SparseArrays\n",
    "using Plots\n",
    "using Interact"
   ]
  },
  {
   "cell_type": "code",
   "execution_count": 5,
   "metadata": {},
   "outputs": [
    {
     "ename": "LoadError",
     "evalue": "IOError: chdir data/natalia191219: no such file or directory (ENOENT)",
     "output_type": "error",
     "traceback": [
      "IOError: chdir data/natalia191219: no such file or directory (ENOENT)",
      "",
      "Stacktrace:",
      " [1] uv_error at ./libuv.jl:97 [inlined]",
      " [2] cd(::String) at ./file.jl:84",
      " [3] cd(::var\"#1#2\", ::String) at ./file.jl:103",
      " [4] top-level scope at In[5]:3",
      " [5] include_string(::Function, ::Module, ::String, ::String) at ./loading.jl:1091"
     ]
    }
   ],
   "source": [
    "## load data\n",
    "using MatrixMarket\n",
    "data = cd(\"data/natalia191219\") do \n",
    "    map(MatrixMarket.mmread, readdir())\n",
    "end;"
   ]
  },
  {
   "cell_type": "code",
   "execution_count": 6,
   "metadata": {},
   "outputs": [
    {
     "ename": "LoadError",
     "evalue": "UndefVarError: data not defined",
     "output_type": "error",
     "traceback": [
      "UndefVarError: data not defined",
      "",
      "Stacktrace:",
      " [1] top-level scope at In[6]:3",
      " [2] include_string(::Function, ::Module, ::String, ::String) at ./loading.jl:1091"
     ]
    }
   ],
   "source": [
    "## adjust diagonal to be a proper q matrix\n",
    "using LinearAlgebra\n",
    "qs = data\n",
    "qs = map(qs) do q\n",
    "    q = q * 0.36\n",
    "    q .- Diagonal(sum(q, dims=2)|>vec) # mass conservation\n",
    "end;"
   ]
  },
  {
   "cell_type": "code",
   "execution_count": 7,
   "metadata": {},
   "outputs": [
    {
     "name": "stderr",
     "output_type": "stream",
     "text": [
      "┌ Info: Precompiling EAMC [d0d32b4c-83b1-4490-9109-c03fdd3b1e42]\n",
      "└ @ Base loading.jl:1278\n"
     ]
    },
    {
     "ename": "LoadError",
     "evalue": "UndefVarError: qs not defined",
     "output_type": "error",
     "traceback": [
      "UndefVarError: qs not defined",
      "",
      "Stacktrace:",
      " [1] top-level scope at In[7]:3",
      " [2] include_string(::Function, ::Module, ::String, ::String) at ./loading.jl:1091"
     ]
    }
   ],
   "source": [
    "## galerkin discretization of the eamc\n",
    "using EAMC\n",
    "dt = ones(length(qs))\n",
    "dt[end] = 1000\n",
    "tmax = length(qs)\n",
    "g = @time EAMC.galerkin(qs[1:tmax], dt[1:tmax]);"
   ]
  },
  {
   "cell_type": "code",
   "execution_count": 8,
   "metadata": {},
   "outputs": [
    {
     "ename": "LoadError",
     "evalue": "UndefVarError: commitors not defined",
     "output_type": "error",
     "traceback": [
      "UndefVarError: commitors not defined",
      "",
      "Stacktrace:",
      " [1] getproperty(::Module, ::Symbol) at ./Base.jl:26",
      " [2] top-level scope at In[8]:1",
      " [3] include_string(::Function, ::Module, ::String, ::String) at ./loading.jl:1091"
     ]
    }
   ],
   "source": [
    "cs = EAMC.commitors(g, 900)\n",
    "cc = reshape(cs, 30, 30, 24, 30, 30);"
   ]
  },
  {
   "cell_type": "code",
   "execution_count": 9,
   "metadata": {
    "scrolled": false
   },
   "outputs": [
    {
     "ename": "LoadError",
     "evalue": "LoadError: UndefVarError: @manipulate not defined\nin expression starting at In[9]:2",
     "output_type": "error",
     "traceback": [
      "LoadError: UndefVarError: @manipulate not defined\nin expression starting at In[9]:2",
      "",
      "Stacktrace:",
      " [1] top-level scope",
      " [2] include_string(::Function, ::Module, ::String, ::String) at ./loading.jl:1091"
     ]
    }
   ],
   "source": [
    "using Plots\n",
    "@manipulate for x=slider(1:30, 15, label=\"x\"), y=slider(1:30, 15, label=\"y\"), t=slider(1:24, 1, label=\"t\")\n",
    "heatmap(cc[:,:,t,y,x], title=\"Commitor von (x=$x,y=$y,t=24) zum zeitpunkt t=$t\")\n",
    "end"
   ]
  },
  {
   "cell_type": "code",
   "execution_count": 10,
   "metadata": {},
   "outputs": [
    {
     "ename": "LoadError",
     "evalue": "UndefVarError: cc not defined",
     "output_type": "error",
     "traceback": [
      "UndefVarError: cc not defined",
      "",
      "Stacktrace:",
      " [1] top-level scope at In[10]:1",
      " [2] include_string(::Function, ::Module, ::String, ::String) at ./loading.jl:1091"
     ]
    }
   ],
   "source": [
    "sc = sum(cc[:,:,23,:,:], dims=[1,2]) |> x->reshape(x, 30,30)\n",
    "heatmap(sc)"
   ]
  },
  {
   "cell_type": "code",
   "execution_count": 11,
   "metadata": {},
   "outputs": [
    {
     "ename": "LoadError",
     "evalue": "UndefVarError: cc not defined",
     "output_type": "error",
     "traceback": [
      "UndefVarError: cc not defined",
      "",
      "Stacktrace:",
      " [1] top-level scope at In[11]:4",
      " [2] include_string(::Function, ::Module, ::String, ::String) at ./loading.jl:1091"
     ]
    }
   ],
   "source": [
    "## restrict clustering area to the center\n",
    "tcluster = 12 # timepoint at which to seperate the clusters\n",
    "xmin, xmax, ymin, ymax = 1,30,1,30\n",
    "M = reshape(cc[xmin:xmax, ymin:ymax, tcluster, xmin:xmax, ymin:ymax], 30*30*1, 30*30)\n",
    "#css = css ./ sqrt.(sum(css, dims=1))\n",
    "#M = reshape(cc[:,:,12,:,:], 30*30, 30*30)\n",
    "\n",
    "M = M' * M\n",
    "M = M - Diagonal(M)\n",
    "M = M ./ sum(M, dims=2);"
   ]
  },
  {
   "cell_type": "code",
   "execution_count": 12,
   "metadata": {},
   "outputs": [
    {
     "ename": "LoadError",
     "evalue": "could not open file /Users/alex/Documents/code/generators/notebooks/src/pccap.jl",
     "output_type": "error",
     "traceback": [
      "could not open file /Users/alex/Documents/code/generators/notebooks/src/pccap.jl",
      "",
      "Stacktrace:",
      " [1] include(::String) at ./client.jl:457",
      " [2] top-level scope at In[12]:1",
      " [3] include_string(::Function, ::Module, ::String, ::String) at ./loading.jl:1091"
     ]
    }
   ],
   "source": [
    "include(\"src/pccap.jl\")\n",
    "nc = 6\n",
    "p = pccap(M, nc, optimize=true)\n",
    "# now sort by cluster size\n",
    "p = p[:,sortperm(sum(p, dims=1)|>vec, rev=true)];"
   ]
  },
  {
   "cell_type": "code",
   "execution_count": 13,
   "metadata": {},
   "outputs": [
    {
     "name": "stderr",
     "output_type": "stream",
     "text": [
      "┌ Warning: /Users/alex/Documents/code/generators/notebooks/src/pccap.jl is not a file, omitting from revision tracking\n",
      "└ @ Revise /Users/alex/.julia/packages/Revise/SZ4ae/src/parsing.jl:24\n"
     ]
    },
    {
     "ename": "LoadError",
     "evalue": "UndefVarError: cc not defined",
     "output_type": "error",
     "traceback": [
      "UndefVarError: cc not defined",
      "",
      "Stacktrace:",
      " [1] top-level scope at In[13]:1",
      " [2] include_string(::Function, ::Module, ::String, ::String) at ./loading.jl:1091"
     ]
    }
   ],
   "source": [
    "cl = reshape(cc[:,:,:, xmin:xmax, ymin:ymax], 30*30*24, 30*30) * p\n",
    "cl = reshape(cl, 30, 30, 24, nc);"
   ]
  },
  {
   "cell_type": "code",
   "execution_count": 14,
   "metadata": {
    "scrolled": false
   },
   "outputs": [
    {
     "ename": "LoadError",
     "evalue": "ArgumentError: Package Interact not found in current path:\n- Run `import Pkg; Pkg.add(\"Interact\")` to install the Interact package.\n",
     "output_type": "error",
     "traceback": [
      "ArgumentError: Package Interact not found in current path:\n- Run `import Pkg; Pkg.add(\"Interact\")` to install the Interact package.\n",
      "",
      "Stacktrace:",
      " [1] require(::Module, ::Symbol) at ./loading.jl:893",
      " [2] include_string(::Function, ::Module, ::String, ::String) at ./loading.jl:1091"
     ]
    }
   ],
   "source": [
    "using Interact\n",
    "gr()\n",
    "@manipulate for i = 1:24, c=1:nc\n",
    "heatmap(log.(cl[:,:,i,c].+1), title=\"pccap on center, t=$i\", clims=(0,.3))\n",
    "    end\n",
    "\n",
    "@manipulate for i = 1:24, c=1:nc\n",
    "heatmap(cl[:,:,i,c], title=\"pccap on center, t=$i\")\n",
    "    end"
   ]
  },
  {
   "cell_type": "code",
   "execution_count": 15,
   "metadata": {},
   "outputs": [
    {
     "ename": "LoadError",
     "evalue": "UndefVarError: nc not defined",
     "output_type": "error",
     "traceback": [
      "UndefVarError: nc not defined",
      "",
      "Stacktrace:",
      " [1] top-level scope at In[15]:3",
      " [2] top-level scope at /Users/alex/.julia/packages/Plots/B2J6j/src/animation.jl:177",
      " [3] include_string(::Function, ::Module, ::String, ::String) at ./loading.jl:1091"
     ]
    }
   ],
   "source": [
    "\n",
    "anim = @animate for t=1:24\n",
    "plot([heatmap(cl[:,:,t,c]) for c=1:nc]..., layout=grid(nc,1), size=(600,1000), title=\"$t\", clims=(0,1))\n",
    "end\n",
    "\n",
    "gif(anim, fps=6)"
   ]
  },
  {
   "cell_type": "code",
   "execution_count": null,
   "metadata": {},
   "outputs": [],
   "source": []
  },
  {
   "cell_type": "code",
   "execution_count": null,
   "metadata": {},
   "outputs": [],
   "source": []
  }
 ],
 "metadata": {
  "@webio": {
   "lastCommId": null,
   "lastKernelId": null
  },
  "kernelspec": {
   "display_name": "Julia 1.5.3",
   "language": "julia",
   "name": "julia-1.5"
  },
  "language_info": {
   "file_extension": ".jl",
   "mimetype": "application/julia",
   "name": "julia",
   "version": "1.5.3"
  }
 },
 "nbformat": 4,
 "nbformat_minor": 2
}
