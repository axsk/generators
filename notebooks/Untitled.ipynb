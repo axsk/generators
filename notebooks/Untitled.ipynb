{
 "cells": [
  {
   "cell_type": "code",
   "execution_count": 2,
   "metadata": {},
   "outputs": [
    {
     "data": {
      "text/plain": [
       "100-element Array{Float64,1}:\n",
       "  1.3                  \n",
       "  1.6900000000000002   \n",
       "  2.197                \n",
       "  2.8561000000000005   \n",
       "  3.7129300000000005   \n",
       "  4.826809000000001    \n",
       "  6.274851700000002    \n",
       "  8.157307210000003    \n",
       " 10.604499373000003    \n",
       " 13.785849184900005    \n",
       " 17.921603940370005    \n",
       " 23.29808512248101     \n",
       " 30.287510659225312    \n",
       "  ⋮                    \n",
       "  1.383433714535482e10 \n",
       "  1.7984638288961266e10\n",
       "  2.3380029775649647e10\n",
       "  3.0394038708344543e10\n",
       "  3.951225032084791e10 \n",
       "  5.136592541710228e10 \n",
       "  6.677570304223297e10 \n",
       "  8.680841395490286e10 \n",
       "  1.1285093814137372e11\n",
       "  1.4670621958378586e11\n",
       "  1.907180854589216e11 \n",
       "  2.479335110965981e11 "
      ]
     },
     "execution_count": 2,
     "metadata": {},
     "output_type": "execute_result"
    }
   ],
   "source": [
    "f = [1.3 ^ n for n=1:100]"
   ]
  },
  {
   "cell_type": "code",
   "execution_count": 7,
   "metadata": {},
   "outputs": [
    {
     "data": {
      "text/plain": [
       "3405.994336744932"
      ]
     },
     "execution_count": 7,
     "metadata": {},
     "output_type": "execute_result"
    }
   ],
   "source": [
    "f[31]"
   ]
  },
  {
   "cell_type": "code",
   "execution_count": 11,
   "metadata": {},
   "outputs": [
    {
     "data": {
      "text/plain": [
       "2.5486951935998995e7"
      ]
     },
     "execution_count": 11,
     "metadata": {},
     "output_type": "execute_result"
    }
   ],
   "source": [
    "f[65]"
   ]
  }
 ],
 "metadata": {
  "kernelspec": {
   "display_name": "Julia 1.3.0",
   "language": "julia",
   "name": "julia-1.3"
  },
  "language_info": {
   "file_extension": ".jl",
   "mimetype": "application/julia",
   "name": "julia",
   "version": "1.3.1"
  }
 },
 "nbformat": 4,
 "nbformat_minor": 4
}
