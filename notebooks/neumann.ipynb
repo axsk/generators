{
 "cells": [
  {
   "cell_type": "code",
   "execution_count": null,
   "metadata": {},
   "outputs": [
    {
     "ename": "Error",
     "evalue": "Jupyter cannot be started. Error attempting to locate jupyter: ",
     "output_type": "error",
     "traceback": [
      "Error: Jupyter cannot be started. Error attempting to locate jupyter:",
      "at A.startServer (/Users/alex/.vscode/extensions/ms-python.python-2020.2.64397/out/client/extension.js:1:786120)",
      "at async A.ensureServerAndNotebookImpl (/Users/alex/.vscode/extensions/ms-python.python-2020.2.64397/out/client/extension.js:1:785575)"
     ]
    }
   ],
   "source": [
    "using EAMC\n",
    "using SparseArrays, LinearAlgebra\n",
    "using Plots"
   ]
  },
  {
   "cell_type": "code",
   "execution_count": null,
   "metadata": {},
   "outputs": [
    {
     "ename": "Error",
     "evalue": "Jupyter cannot be started. Error attempting to locate jupyter: ",
     "output_type": "error",
     "traceback": [
      "Error: Jupyter cannot be started. Error attempting to locate jupyter:",
      "at A.startServer (/Users/alex/.vscode/extensions/ms-python.python-2020.2.64397/out/client/extension.js:1:786120)",
      "at async A.ensureServerAndNotebookImpl (/Users/alex/.vscode/extensions/ms-python.python-2020.2.64397/out/client/extension.js:1:785575)"
     ]
    }
   ],
   "source": [
    "using SparseArrays\n",
    "Q=sprand(100,100, .05)\n",
    "\n",
    "Q=Q-Diagonal(Q)\n",
    "Q=Q-Diagonal(sum(Q, dims=2)|>vec)\n",
    "\n",
    "T = exp(Q |> collect)"
   ]
  },
  {
   "cell_type": "code",
   "execution_count": null,
   "metadata": {},
   "outputs": [
    {
     "ename": "Error",
     "evalue": "Jupyter cannot be started. Error attempting to locate jupyter: ",
     "output_type": "error",
     "traceback": [
      "Error: Jupyter cannot be started. Error attempting to locate jupyter:",
      "at A.startServer (/Users/alex/.vscode/extensions/ms-python.python-2020.2.64397/out/client/extension.js:1:786120)",
      "at async A.ensureServerAndNotebookImpl (/Users/alex/.vscode/extensions/ms-python.python-2020.2.64397/out/client/extension.js:1:785575)"
     ]
    }
   ],
   "source": [
    "n = size(Q, 1)\n",
    "nt = 10\n",
    "g = galerkin([Q for i=1:nt], [1/nt for i=1:nt])"
   ]
  },
  {
   "cell_type": "code",
   "execution_count": null,
   "metadata": {},
   "outputs": [
    {
     "ename": "Error",
     "evalue": "Jupyter cannot be started. Error attempting to locate jupyter: ",
     "output_type": "error",
     "traceback": [
      "Error: Jupyter cannot be started. Error attempting to locate jupyter:",
      "at A.startServer (/Users/alex/.vscode/extensions/ms-python.python-2020.2.64397/out/client/extension.js:1:786120)",
      "at async A.ensureServerAndNotebookImpl (/Users/alex/.vscode/extensions/ms-python.python-2020.2.64397/out/client/extension.js:1:785575)"
     ]
    }
   ],
   "source": [
    "function E_powerseries(g, N)\n",
    "    e = I\n",
    "    p = I\n",
    "    for i=1:N\n",
    "        p = p * g\n",
    "        e = e + p\n",
    "    end\n",
    "    e\n",
    "end\n",
    "\n",
    "function E_neumann(g)\n",
    "    (I-g) |> Matrix |> inv\n",
    "end"
   ]
  },
  {
   "cell_type": "code",
   "execution_count": null,
   "metadata": {},
   "outputs": [
    {
     "ename": "Error",
     "evalue": "Jupyter cannot be started. Error attempting to locate jupyter: ",
     "output_type": "error",
     "traceback": [
      "Error: Jupyter cannot be started. Error attempting to locate jupyter:",
      "at A.startServer (/Users/alex/.vscode/extensions/ms-python.python-2020.2.64397/out/client/extension.js:1:786120)",
      "at async A.ensureServerAndNotebookImpl (/Users/alex/.vscode/extensions/ms-python.python-2020.2.64397/out/client/extension.js:1:785575)"
     ]
    }
   ],
   "source": [
    "E = E_neumann(g)"
   ]
  },
  {
   "cell_type": "code",
   "execution_count": null,
   "metadata": {},
   "outputs": [
    {
     "ename": "Error",
     "evalue": "Jupyter cannot be started. Error attempting to locate jupyter: ",
     "output_type": "error",
     "traceback": [
      "Error: Jupyter cannot be started. Error attempting to locate jupyter:",
      "at A.startServer (/Users/alex/.vscode/extensions/ms-python.python-2020.2.64397/out/client/extension.js:1:786120)",
      "at async A.ensureServerAndNotebookImpl (/Users/alex/.vscode/extensions/ms-python.python-2020.2.64397/out/client/extension.js:1:785575)"
     ]
    }
   ],
   "source": [
    "qout = -diag(Q) |> collect\n",
    "s = exp.(-(1/nt) * qout)\n",
    "S = vcat((Diagonal(s)^i for i=10:-1:1)...)"
   ]
  },
  {
   "cell_type": "code",
   "execution_count": null,
   "metadata": {},
   "outputs": [
    {
     "ename": "Error",
     "evalue": "Jupyter cannot be started. Error attempting to locate jupyter: ",
     "output_type": "error",
     "traceback": [
      "Error: Jupyter cannot be started. Error attempting to locate jupyter:",
      "at A.startServer (/Users/alex/.vscode/extensions/ms-python.python-2020.2.64397/out/client/extension.js:1:786120)",
      "at async A.ensureServerAndNotebookImpl (/Users/alex/.vscode/extensions/ms-python.python-2020.2.64397/out/client/extension.js:1:785575)"
     ]
    }
   ],
   "source": [
    "S2 = vcat(\n",
    "    (replace(\n",
    "        Diagonal(10 * 1 ./ qout .* (exp.(- qout * (1-(t0+.1))) - exp.( -qout * (1-t0)))),\n",
    "        NaN=>1)\n",
    "    for t0 = 0:.1:.9)...)"
   ]
  },
  {
   "cell_type": "code",
   "execution_count": null,
   "metadata": {},
   "outputs": [
    {
     "ename": "Error",
     "evalue": "Jupyter cannot be started. Error attempting to locate jupyter: ",
     "output_type": "error",
     "traceback": [
      "Error: Jupyter cannot be started. Error attempting to locate jupyter:",
      "at A.startServer (/Users/alex/.vscode/extensions/ms-python.python-2020.2.64397/out/client/extension.js:1:786120)",
      "at async A.ensureServerAndNotebookImpl (/Users/alex/.vscode/extensions/ms-python.python-2020.2.64397/out/client/extension.js:1:785575)"
     ]
    }
   ],
   "source": [
    "all(S2 .>= S)"
   ]
  },
  {
   "cell_type": "code",
   "execution_count": null,
   "metadata": {},
   "outputs": [
    {
     "ename": "Error",
     "evalue": "Jupyter cannot be started. Error attempting to locate jupyter: ",
     "output_type": "error",
     "traceback": [
      "Error: Jupyter cannot be started. Error attempting to locate jupyter:",
      "at A.startServer (/Users/alex/.vscode/extensions/ms-python.python-2020.2.64397/out/client/extension.js:1:786120)",
      "at async A.ensureServerAndNotebookImpl (/Users/alex/.vscode/extensions/ms-python.python-2020.2.64397/out/client/extension.js:1:785575)"
     ]
    }
   ],
   "source": [
    "Te = E[1:100, :] * S"
   ]
  },
  {
   "cell_type": "code",
   "execution_count": null,
   "metadata": {},
   "outputs": [
    {
     "ename": "Error",
     "evalue": "Jupyter cannot be started. Error attempting to locate jupyter: ",
     "output_type": "error",
     "traceback": [
      "Error: Jupyter cannot be started. Error attempting to locate jupyter:",
      "at A.startServer (/Users/alex/.vscode/extensions/ms-python.python-2020.2.64397/out/client/extension.js:1:786120)",
      "at async A.ensureServerAndNotebookImpl (/Users/alex/.vscode/extensions/ms-python.python-2020.2.64397/out/client/extension.js:1:785575)"
     ]
    }
   ],
   "source": [
    "Te2 = E[1:100, :] * S2"
   ]
  },
  {
   "cell_type": "code",
   "execution_count": null,
   "metadata": {},
   "outputs": [
    {
     "ename": "Error",
     "evalue": "Jupyter cannot be started. Error attempting to locate jupyter: ",
     "output_type": "error",
     "traceback": [
      "Error: Jupyter cannot be started. Error attempting to locate jupyter:",
      "at A.startServer (/Users/alex/.vscode/extensions/ms-python.python-2020.2.64397/out/client/extension.js:1:786120)",
      "at async A.ensureServerAndNotebookImpl (/Users/alex/.vscode/extensions/ms-python.python-2020.2.64397/out/client/extension.js:1:785575)"
     ]
    }
   ],
   "source": [
    "T"
   ]
  },
  {
   "cell_type": "code",
   "execution_count": null,
   "metadata": {},
   "outputs": [
    {
     "ename": "Error",
     "evalue": "Jupyter cannot be started. Error attempting to locate jupyter: ",
     "output_type": "error",
     "traceback": [
      "Error: Jupyter cannot be started. Error attempting to locate jupyter:",
      "at A.startServer (/Users/alex/.vscode/extensions/ms-python.python-2020.2.64397/out/client/extension.js:1:786120)",
      "at async A.ensureServerAndNotebookImpl (/Users/alex/.vscode/extensions/ms-python.python-2020.2.64397/out/client/extension.js:1:785575)"
     ]
    }
   ],
   "source": [
    "sum(Te, dims=2)"
   ]
  },
  {
   "cell_type": "code",
   "execution_count": null,
   "metadata": {},
   "outputs": [
    {
     "ename": "Error",
     "evalue": "Jupyter cannot be started. Error attempting to locate jupyter: ",
     "output_type": "error",
     "traceback": [
      "Error: Jupyter cannot be started. Error attempting to locate jupyter:",
      "at A.startServer (/Users/alex/.vscode/extensions/ms-python.python-2020.2.64397/out/client/extension.js:1:786120)",
      "at async A.ensureServerAndNotebookImpl (/Users/alex/.vscode/extensions/ms-python.python-2020.2.64397/out/client/extension.js:1:785575)"
     ]
    }
   ],
   "source": [
    "sum(Te2, dims=2)"
   ]
  },
  {
   "cell_type": "code",
   "execution_count": null,
   "metadata": {},
   "outputs": [
    {
     "ename": "Error",
     "evalue": "Jupyter cannot be started. Error attempting to locate jupyter: ",
     "output_type": "error",
     "traceback": [
      "Error: Jupyter cannot be started. Error attempting to locate jupyter:",
      "at A.startServer (/Users/alex/.vscode/extensions/ms-python.python-2020.2.64397/out/client/extension.js:1:786120)",
      "at async A.ensureServerAndNotebookImpl (/Users/alex/.vscode/extensions/ms-python.python-2020.2.64397/out/client/extension.js:1:785575)"
     ]
    }
   ],
   "source": [
    "@show norm(Te-T)\n",
    "@show norm(Te2-T)"
   ]
  },
  {
   "cell_type": "code",
   "execution_count": null,
   "metadata": {},
   "outputs": [],
   "source": []
  },
  {
   "cell_type": "code",
   "execution_count": null,
   "metadata": {},
   "outputs": [],
   "source": []
  }
 ],
 "metadata": {
  "kernelspec": {
   "display_name": "Julia 1.3.1",
   "language": "julia",
   "name": "julia-1.3"
  },
  "language_info": {
   "file_extension": ".jl",
   "mimetype": "application/julia",
   "name": "julia",
   "version": "1.3.1"
  }
 },
 "nbformat": 4,
 "nbformat_minor": 4
}